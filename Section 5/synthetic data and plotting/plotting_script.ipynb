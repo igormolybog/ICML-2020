{
  "nbformat": 4,
  "nbformat_minor": 0,
  "metadata": {
    "colab": {
      "name": "mean+std_ICML.ipynb",
      "provenance": []
    },
    "kernelspec": {
      "name": "python3",
      "display_name": "Python 3"
    }
  },
  "cells": [
    {
      "cell_type": "code",
      "metadata": {
        "id": "obdPItmRfADZ",
        "colab_type": "code",
        "outputId": "91ae2f90-5b1c-4c04-d44a-d9b7449442b4",
        "colab": {
          "base_uri": "https://localhost:8080/",
          "height": 34
        }
      },
      "source": [
        "import os\n",
        "csv_files = [f for f in os.listdir('.') if os.path.isfile(f) and f.split('.')[-1] == 'csv']\n",
        "\n",
        "import pandas as pd\n",
        "df_files = [{\"content\": pd.read_csv(f), \"name\": f} for f in csv_files]\n",
        "\n",
        "import matplotlib.pyplot as plt\n",
        "for df_file in df_files:\n",
        "    if df_file[\"name\"] == 'section 5.1 result.csv':\n",
        "        break\n",
        "    plt.plot('nums', 'zeroptfive', data=df_file[\"content\"], label='baseline', color='black', linestyle='dashed')\n",
        "    for suffix, color in [('0.85', 'purple'), \n",
        "                          ('0.875', 'blue'), \n",
        "                          ('0.9', 'green'), \n",
        "                          ('0.925', 'orange'), \n",
        "                          ('0.95', 'red')]:\n",
        "        plt.plot('nums', 'm'+suffix, data=df_file[\"content\"], label=suffix, color=color, linestyle='solid')\n",
        "        plt.fill_between(df_file[\"content\"]['nums'], df_file[\"content\"][\"m-\"+suffix],\n",
        "                                        df_file[\"content\"][\"m+\"+suffix], color=color, alpha=0.1)\n",
        "\n",
        "    plt.legend()\n",
        "    plt.grid()\n",
        "    plt.xlabel(\"U\")\n",
        "    plt.ylabel(\"sufficient RIP\")\n",
        "    plt.savefig('rand', dpi=600)\n",
        "    plt.clf()\n"
      ],
      "execution_count": 0,
      "outputs": [
        {
          "output_type": "display_data",
          "data": {
            "text/plain": [
              "<Figure size 432x288 with 0 Axes>"
            ]
          },
          "metadata": {
            "tags": []
          }
        }
      ]
    },
    {
      "cell_type": "code",
      "metadata": {
        "id": "XMtGUsaffIOG",
        "colab_type": "code",
        "outputId": "4a052dd9-1c6d-4d91-b4de-2359ade942f8",
        "colab": {
          "base_uri": "https://localhost:8080/",
          "height": 102
        }
      },
      "source": [
        "import os\n",
        "csv_files = [f for f in os.listdir('.') if os.path.isfile(f) and f.split('.')[-1] == 'csv']\n",
        "\n",
        "import pandas as pd\n",
        "df_files = [{\"content\": pd.read_csv(f, na_values='[]'), \"name\": f} for f in csv_files]\n",
        "\n",
        "df_files = [df_file for df_file in df_files if df_file[\"name\"] == 'section 5.2 result.csv']\n",
        "\n",
        "df_file = df_files[0]\n",
        "\n",
        "import numpy as np\n",
        "import matplotlib.pyplot as plt\n",
        "\n",
        "epsilon = 0.0005\n",
        "\n",
        "for root in [\"usual_\", \"extra_\"]:\n",
        "    for suffix in [\"9\", \"14\"]:\n",
        "\n",
        "        x = df_file[\"content\"]['stat_'+root+suffix]\n",
        "        point = df_file[\"content\"]['true_'+root+suffix][0]\n",
        "\n",
        "\n",
        "        sd = np.std(x)\n",
        "        m = np.mean(x)\n",
        "        weights = np.ones_like(x)/len(x)\n",
        "        plt.hist(x, weights = weights, bins=30, color = 'blue')\n",
        "        plt.axvspan(max(m-sd,0.5), min(m+sd,1), alpha=0.3, color='green')\n",
        "\n",
        "        plt.axvspan(point+epsilon, point-epsilon, color='red')\n",
        "        plt.xlabel(\"sufficient RIP\")\n",
        "        plt.ylabel(\"frequency\")\n",
        "        plt.savefig(root+suffix, dpi=600)\n",
        "        plt.clf()"
      ],
      "execution_count": 0,
      "outputs": [
        {
          "output_type": "stream",
          "text": [
            "/usr/local/lib/python3.6/dist-packages/numpy/lib/histograms.py:839: RuntimeWarning: invalid value encountered in greater_equal\n",
            "  keep = (tmp_a >= first_edge)\n",
            "/usr/local/lib/python3.6/dist-packages/numpy/lib/histograms.py:840: RuntimeWarning: invalid value encountered in less_equal\n",
            "  keep &= (tmp_a <= last_edge)\n"
          ],
          "name": "stderr"
        },
        {
          "output_type": "display_data",
          "data": {
            "text/plain": [
              "<Figure size 432x288 with 0 Axes>"
            ]
          },
          "metadata": {
            "tags": []
          }
        }
      ]
    }
  ]
}